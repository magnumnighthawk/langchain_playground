{
 "cells": [
  {
   "cell_type": "code",
   "execution_count": 1,
   "metadata": {},
   "outputs": [
    {
     "name": "stderr",
     "output_type": "stream",
     "text": [
      "/Users/karramak/Documents/Work/Playground/langchain_project/langchainproj/lib/python3.9/site-packages/urllib3/__init__.py:35: NotOpenSSLWarning: urllib3 v2 only supports OpenSSL 1.1.1+, currently the 'ssl' module is compiled with 'LibreSSL 2.8.3'. See: https://github.com/urllib3/urllib3/issues/3020\n",
      "  warnings.warn(\n"
     ]
    },
    {
     "name": "stdout",
     "output_type": "stream",
     "text": [
      "Embeddings stored successfully!\n"
     ]
    }
   ],
   "source": [
    "import faiss\n",
    "import numpy as np\n",
    "from langchain_openai import OpenAIEmbeddings\n",
    "\n",
    "texts = [\"Artificial Intelligence\", \"Machine Learning\", \"Deep Learning\", \"Neural Networks\", \"Computer Vision\"]\n",
    "embeddings = np.array(OpenAIEmbeddings().embed_documents(texts)).astype('float32')\n",
    "\n",
    "# Step 2: Initialize FAISS Index\n",
    "dimension = embeddings.shape[1]  # Vector dimension\n",
    "index = faiss.IndexFlatL2(dimension)  # L2 distance (Euclidean)\n",
    "\n",
    "# Step 3: Add embeddings to FAISS\n",
    "index.add(embeddings)\n",
    "print(\"Embeddings stored successfully!\")"
   ]
  },
  {
   "cell_type": "code",
   "execution_count": 4,
   "metadata": {},
   "outputs": [
    {
     "data": {
      "text/plain": [
       "array([-0.01589098, -0.01389814,  0.00339689, ..., -0.01983785,\n",
       "       -0.01010656, -0.02456114], dtype=float32)"
      ]
     },
     "execution_count": 4,
     "metadata": {},
     "output_type": "execute_result"
    }
   ],
   "source": [
    "embeddings[0]"
   ]
  },
  {
   "cell_type": "code",
   "execution_count": 17,
   "metadata": {},
   "outputs": [
    {
     "name": "stdout",
     "output_type": "stream",
     "text": [
      "\n",
      "Top Matches:\n",
      "Artificial Intelligence (Distance: 0.44142529368400574)\n",
      "Machine Learning (Distance: 0.4458814263343811)\n"
     ]
    }
   ],
   "source": [
    "# Step 4: Query a new embedding and search\n",
    "query = \"ChatGPT\"\n",
    "query_embedding = np.array(OpenAIEmbeddings().embed_documents([query])).astype('float32')\n",
    "\n",
    "# Step 5: Perform similarity search\n",
    "k = 2  # Retrieve top-2 similar results\n",
    "distances, indices = index.search(query_embedding, k)\n",
    "\n",
    "# Step 6: Print results\n",
    "print(\"\\nTop Matches:\")\n",
    "for i in range(k):\n",
    "    print(f\"{texts[indices[0][i]]} (Distance: {distances[0][i]})\")\n"
   ]
  },
  {
   "cell_type": "code",
   "execution_count": null,
   "metadata": {},
   "outputs": [],
   "source": []
  }
 ],
 "metadata": {
  "kernelspec": {
   "display_name": "langchainproj",
   "language": "python",
   "name": "python3"
  },
  "language_info": {
   "codemirror_mode": {
    "name": "ipython",
    "version": 3
   },
   "file_extension": ".py",
   "mimetype": "text/x-python",
   "name": "python",
   "nbconvert_exporter": "python",
   "pygments_lexer": "ipython3",
   "version": "3.9.6"
  }
 },
 "nbformat": 4,
 "nbformat_minor": 2
}
